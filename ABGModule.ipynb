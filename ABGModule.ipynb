{
 "cells": [
  {
   "cell_type": "code",
   "execution_count": null,
   "id": "5e6fe7b9",
   "metadata": {},
   "outputs": [],
   "source": []
  },
  {
   "cell_type": "markdown",
   "id": "7653e49e",
   "metadata": {},
   "source": [
    "# Good Morning Class!"
   ]
  },
  {
   "cell_type": "markdown",
   "id": "d29db6b4",
   "metadata": {},
   "source": [
    "Welcome to the interactive guide for ABG Basics"
   ]
  },
  {
   "cell_type": "markdown",
   "id": "36dac91a",
   "metadata": {},
   "source": [
    "# Introduction to the Acid-Base System: Understanding the Basics"
   ]
  },
  {
   "cell_type": "markdown",
   "id": "79315316",
   "metadata": {},
   "source": [
    "The acid-base system is a vital component of the human body's physiology, by maintaining the optimal pH levels required for proper cellular function. This introductory module aims to provide a comprehensive review of the acid-base system's basic principles, focusing on the key variables involved in assessing the body's acid-base balance and the delicate interplay of compensation. This will be concluded with an intergrated calculator that allows you to explore the different values that can be realistically obtained and then used in the classification of an Artieral Blood Gas. In addition, a brief comparative of speed of compensation will be presented. Throughout this module, we will explore the fundamental concepts and components, as well as the importance of these variables in clinical practice.\n",
    "\n",
    "To begin, it is essential to understand the role of the acid-base system in maintaining the body's homeostasis. The human body functions optimally within a narrow pH range, typically between 7.35 and 7.45. This range ensures that enzymes, proteins, and cellular processes can operate efficiently. The acid-base system works to maintain this pH range through several buffering mechanisms that involve the respiratory and renal systems. The balance between acids and bases is crucial for the proper functioning of these systems, and any significant deviation from the normal pH range can lead to life-threatening conditions.\n",
    "\n",
    "In this module, we will focus on the following key variables involved in the acid-base system:"
   ]
  },
  {
   "cell_type": "markdown",
   "id": "1540460c",
   "metadata": {},
   "source": [
    "## pH\n",
    "\n",
    "The pH value represents the acidity or alkalinity of a solution, with lower values indicating acidic conditions and higher values representing alkaline conditions. The normal blood pH range is 7.35 to 7.45. \n",
    "\n",
    "Any deviation from this range may result in \n",
    "\n",
    "##### acidosis (pH < 7.35) \n",
    "\n",
    "or \n",
    "\n",
    "##### alkalosis (pH > 7.45)\n"
   ]
  },
  {
   "cell_type": "markdown",
   "id": "73673629",
   "metadata": {},
   "source": [
    "## PaCO2\n",
    "\n",
    "The partial pressure of carbon dioxide (PaCO2) refers to the amount of dissolved carbon dioxide (CO2) in the blood. This variable is primarily regulated by the respiratory system through the exchange of CO2 between the lungs and the bloodstream. \n",
    "\n",
    "#### Normal PaCO2 values range from 35 to 45 mmHg. (PaCO2 35-45 mmHg)\n",
    "\n",
    "\n",
    "Abnormal PaCO2 levels can be indicative of \n",
    "\n",
    "##### respiratory acidosis (PaCO2 > 45 mmHg) \n",
    "\n",
    "or \n",
    "\n",
    "##### respiratory alkalosis (PaCO2 < 35 mmHg)."
   ]
  },
  {
   "cell_type": "markdown",
   "id": "1f02b449",
   "metadata": {},
   "source": [
    "## HCO3 \n",
    "\n",
    "Bicarbonate (HCO3) is an essential component of the body's buffering system, working alongside the respiratory system to maintain acid-base balance. The kidneys primarily regulate HCO3 levels by reabsorbing or excreting it in the urine. \n",
    "\n",
    "#### Normal HCO3 values range from 22 to 26 mEq/L. (HCO3 22-26 mEq/L)\n",
    "\n",
    "\n",
    "Abnormal HCO3 levels may signify \n",
    "\n",
    "##### metabolic acidosis (HCO3 < 22 mEq/L) \n",
    "\n",
    "or \n",
    "\n",
    "##### metabolic alkalosis (HCO3 > 26 mEq/L)"
   ]
  },
  {
   "cell_type": "markdown",
   "id": "43b97768",
   "metadata": {},
   "source": [
    "## Base Excess (BE)\n",
    "\n",
    "Base excess represents the amount of strong acid or base present. This variable helps assess the presence and severity of a metabolic component in acid-base disturbances. \n",
    "\n",
    "#### The Normal Range is +-2.\n",
    "\n",
    "##### A positive base excess indicates metabolic alkalosis.\n",
    "##### A negative base excess suggests metabolic acidosis."
   ]
  },
  {
   "cell_type": "markdown",
   "id": "69663f70",
   "metadata": {},
   "source": [
    "## PaO2\n",
    "\n",
    "The partial pressure of oxygen (PaO2) is a measure of the amount of dissolved oxygen in the blood. Although PaO2 is not directly involved in the acid-base system, it is crucial for assessing a patient's overall respiratory status. \n",
    "\n",
    "\n",
    "#### Normal PaO2 values range from 80 to 100 mmHg (PaO2 80-100 mmHg)\n",
    "\n",
    "##### but these values can vary depending on the patient's age and altitude.\n",
    "\n"
   ]
  },
  {
   "cell_type": "markdown",
   "id": "646b7058",
   "metadata": {},
   "source": [
    "## SaO2\n",
    "\n",
    "Oxygen saturation (SaO2) is the percentage of hemoglobin that is bound to oxygen in the blood. Like PaO2, SaO2 is not directly involved in the acid-base system but is an essential variable for evaluating a patient's respiratory status. \n",
    "\n",
    "##### Normal Values are always argued but for clinical practice, a SaO2 >92% is acceptable."
   ]
  },
  {
   "cell_type": "markdown",
   "id": "f5118127",
   "metadata": {},
   "source": [
    "# What is the Relationship and How is it mathematically described?"
   ]
  },
  {
   "cell_type": "markdown",
   "id": "00b66bd4",
   "metadata": {},
   "source": [
    "The primary equation used to assess the acid-base system is the Henderson-Hasselbalch equation. It is a mathematical expression that relates pH, partial pressure of carbon dioxide (PaCO2), and bicarbonate concentration (HCO3-) in the blood. The equation is as follows:\n",
    "\n",
    "\n",
    "# pH = pK + log10(HCO3- / (PCO2_conversion * PaCO2))\n",
    "\n",
    "\n",
    "In this equation:\n",
    "\n",
    "#### pH represents the acidity or alkalinity of the blood.\n",
    "\n",
    "#### pK is the negative logarithm of the acid dissociation constant (Ka) of the bicarbonate buffer system. \n",
    "##### For human blood, pK is approximately equal to 6.1.\n",
    "\n",
    "#### HCO3- is the bicarbonate concentration in the blood, measured in milliequivalents per liter (mEq/L).\n",
    "\n",
    "#### PaCO2 is the partial pressure of carbon dioxide in the blood, measured in millimeters of mercury (mmHg).\n",
    "\n",
    "#### PCO2_conversion is a constant representing the solubility coefficient of CO2 in the blood, which is approximately 0.03."
   ]
  },
  {
   "cell_type": "markdown",
   "id": "2d9e7818",
   "metadata": {},
   "source": [
    "##### To run the following code. Please select the box below and press \"Shift+Enter\".\n",
    "\n",
    "You will then be prompted to enter a few sample CO2 and HCO3 values to get a pH. You can use your own calculator to follow along if your suspicious."
   ]
  },
  {
   "cell_type": "code",
   "execution_count": 44,
   "id": "7c824751",
   "metadata": {},
   "outputs": [
    {
     "name": "stdout",
     "output_type": "stream",
     "text": [
      "Enter the PaCO2 value (in mmHg): 19\n",
      "Enter the HCO3 value (in mEq/L): 44\n",
      "The calculated pH is: 7.99\n"
     ]
    }
   ],
   "source": [
    "import numpy as np\n",
    "\n",
    "def calculate_pH(PaCO2, HCO3):\n",
    "    pK = 6.1\n",
    "    PCO2_conversion = 0.03\n",
    "    pH = pK + np.log10(HCO3 / (PCO2_conversion * PaCO2))\n",
    "    return pH\n",
    "\n",
    "def main():\n",
    "    PaCO2 = float(input(\"Enter the PaCO2 value (in mmHg): \"))\n",
    "    HCO3 = float(input(\"Enter the HCO3 value (in mEq/L): \"))\n",
    "    \n",
    "    pH = calculate_pH(PaCO2, HCO3)\n",
    "    \n",
    "    print(f\"The calculated pH is: {pH:.2f}\")\n",
    "\n",
    "if __name__ == \"__main__\":\n",
    "    main()\n"
   ]
  },
  {
   "cell_type": "markdown",
   "id": "c8f0e1bf",
   "metadata": {},
   "source": [
    "The Henderson-Hasselbalch equation is a fundamental expression in understanding the acid-base balance within the human body. It establishes the mathematical relationship between the pH, partial pressure of carbon dioxide (PaCO2), and the bicarbonate concentration (HCO3-) in the blood. To appreciate the connection between CO2 and HCO3- in this formula, we need to delve into the underlying chemical relationship of the acid-base system.\n",
    "\n",
    "The complex relationship between PaCO2 and HCO3- as expressed by the Henderson-Hasselbalch equation enables healthcare professionals to classify acid-base imbalances and guide appropriate treatment. Acid-base disturbances can be broadly categorized into four major types: \n",
    "\n",
    "### Respiratory Acidosis, Respiratory Alkalosis, Metabolic Acidosis, and Metabolic Alkalosis."
   ]
  },
  {
   "cell_type": "markdown",
   "id": "65221dd7",
   "metadata": {},
   "source": [
    "# Causes of Acid-Base Imbalances"
   ]
  },
  {
   "cell_type": "markdown",
   "id": "b34dce4d",
   "metadata": {},
   "source": [
    "## Respiratory Acidosis\n",
    "\n",
    "This occurs when PaCO2 is elevated due to impaired alveolar ventilation, leading to an accumulation of CO2 in the blood. The increased PaCO2 shifts the bicarbonate buffer system equilibrium, increasing H+ ions and lowering the pH. The kidneys attempt to compensate by increasing HCO3- reabsorption, but this process is slower than respiratory compensation.\n",
    "\n",
    "##### Example: A patient with chronic obstructive pulmonary disease (COPD) experiences difficulty breathing, leading to a buildup of CO2 in the blood and making it more acidic. The body tries to fix this by increasing the amount of bicarbonate, but it takes time."
   ]
  },
  {
   "cell_type": "markdown",
   "id": "3667e875",
   "metadata": {},
   "source": [
    "## Respiratory Alkalosis\n",
    "\n",
    "This condition arises when PaCO2 is decreased due to hyperventilation, causing a reduction of CO2 in the blood. The decreased PaCO2 shifts the bicarbonate buffer system equilibrium, decreasing H+ ions and raising the pH. The kidneys may compensate by decreasing HCO3- reabsorption or increasing its excretion, but, as in respiratory acidosis, renal compensation is slower.\n",
    "\n",
    "##### Example: A patient experiencing a panic attack breathes too quickly, causing a loss of CO2 in the blood and making it more alkaline. The body attempts to balance this by reducing the amount of bicarbonate, but this process is slow."
   ]
  },
  {
   "cell_type": "markdown",
   "id": "73632caa",
   "metadata": {},
   "source": [
    "## Metabolic Acidosis\n",
    "\n",
    "This imbalance results from an increased H+ ion concentration or a decreased HCO3- concentration in the blood. It may occur due to increased acid production, loss of bicarbonate, or impaired renal acid excretion. The respiratory system compensates by increasing ventilation to lower PaCO2, driving the bicarbonate buffer system equilibrium toward the formation of CO2 and water, and thus raising the pH.\n",
    "\n",
    "##### Example: A diabetic patient develops diabetic ketoacidosis (DKA) due to a lack of insulin, leading to the production of ketone bodies that make the blood more acidic. The body compensates by breathing faster to get rid of CO2 and increase the pH."
   ]
  },
  {
   "cell_type": "markdown",
   "id": "f596aa18",
   "metadata": {},
   "source": [
    "## Metabolic Alkalosis\n",
    "\n",
    "This condition is characterized by a decreased H+ ion concentration or an increased HCO3- concentration in the blood. It may be caused by excessive loss of H+ ions, increased bicarbonate production or intake, or impaired renal bicarbonate excretion. The respiratory system compensates by decreasing ventilation, raising PaCO2, and driving the bicarbonate buffer system equilibrium toward the formation of H+ ions, thereby lowering the pH.\n",
    "\n",
    "##### Example: A patient with severe vomiting loses excessive amounts of stomach acid, resulting in a decrease of H+ ions in the blood and making it more alkaline. The body compensates by breathing slower to retain CO2 and decrease the pH."
   ]
  },
  {
   "cell_type": "markdown",
   "id": "304273bb",
   "metadata": {},
   "source": [
    "Always recall that the body does not allow for deviations to presist, they must be corrected if they persist but this must be done\n",
    "##### over time\n",
    "to ensure that the correction is not too drastic. Overcompensation is a constant concern among Healthcare Professionals and as a result, a deep understanding of Arterial Blood Gas Compesnation is necessary."
   ]
  },
  {
   "cell_type": "markdown",
   "id": "728b3781",
   "metadata": {},
   "source": [
    "# Levels of Compensation"
   ]
  },
  {
   "cell_type": "markdown",
   "id": "fca50d3f",
   "metadata": {},
   "source": [
    "In acid-base disturbances, the body attempts to maintain a normal pH through various compensatory mechanisms. The degree of compensation can vary depending on the severity of the disturbance, the underlying cause, and the amount of time the body has had to respond to the problem. The three main categories of compensation are \n",
    "\n",
    "## No Compensation, Partial Compensation, and Full Compensation."
   ]
  },
  {
   "cell_type": "markdown",
   "id": "ac3a679b",
   "metadata": {},
   "source": [
    "## No Compensation\n",
    "\n",
    "No compensation occurs when the body has not yet initiated or is unable to initiate any compensatory mechanisms to correct the pH imbalance. This is typically seen in acute or rapidly developing acid-base disturbances where the body has not had enough time to respond.\n",
    "\n",
    "##### Patients with no Compensation are of significant concern and should be referred for specialty consultation."
   ]
  },
  {
   "cell_type": "markdown",
   "id": "718a5d7f",
   "metadata": {},
   "source": [
    "## Partial Compensation\n",
    "\n",
    "Partial compensation occurs when the compensatory system (either respiratory or metabolic) has started to counteract the primary disturbance, but the pH has not yet returned to the normal range. This indicates that the compensatory mechanisms are active, but they have not fully corrected the imbalance.\n",
    "\n",
    "##### Patients with Partial Compensation are returning to a normal pH but care should utilized when making this statement. You must consider if the body is compensating normally or abnormally over time, will the patient be able to continue compensating in this manner? Expert Consultation must be made when making this determination."
   ]
  },
  {
   "cell_type": "markdown",
   "id": "6113f888",
   "metadata": {},
   "source": [
    "## Full Compensation\n",
    "\n",
    "Full compensation occurs when the compensatory system has successfully restored the pH to within the normal range, despite the ongoing primary disturbance. It is important to note that while the pH is normal, the underlying cause of the primary disturbance still exists and may require treatment.\n",
    "\n",
    "##### Patients with Full Compensation have returned to a normal pH. However, you must now determine if this Full Compensation is beneficial or detrimental. Strategies for Mechanical Ventilation can utilize Full Compensation when determining ventilation parameters while Chronic DIseases also cause Full Compensation over time."
   ]
  },
  {
   "cell_type": "markdown",
   "id": "2e770c73",
   "metadata": {},
   "source": [
    "# Time Considerations\n",
    "\n",
    "Consider the following fictitional example of a 60 year old COPD smoker who had a baseline ABG of\n",
    "\n",
    "#### pH 7.39\n",
    "#### PaCO2 55\n",
    "#### HCO3 32\n",
    "\n",
    "If we assume that he smoked 1 pack per day for 30 years and started smoking at the age of 30 with a normal baseline ABG of\n",
    "\n",
    "#### pH 7.40\n",
    "#### PaCO2 40\n",
    "#### HCO3 24\n",
    "\n",
    "We can arrange the following table.\n",
    "\n",
    "##### To run the following code. Please select the box below and press \"Shift+Enter\"."
   ]
  },
  {
   "cell_type": "code",
   "execution_count": 27,
   "id": "dd6959db",
   "metadata": {},
   "outputs": [
    {
     "name": "stdout",
     "output_type": "stream",
     "text": [
      "Age: 30, PaCO2: 40.0 mmHg, HCO3-: 24.0 mEq/L, pH: 7.40\n",
      "Age: 31, PaCO2: 40.5 mmHg, HCO3-: 24.3 mEq/L, pH: 7.40\n",
      "Age: 32, PaCO2: 41.0 mmHg, HCO3-: 24.5 mEq/L, pH: 7.40\n",
      "Age: 33, PaCO2: 41.5 mmHg, HCO3-: 24.8 mEq/L, pH: 7.40\n",
      "Age: 34, PaCO2: 42.0 mmHg, HCO3-: 25.1 mEq/L, pH: 7.40\n",
      "Age: 35, PaCO2: 42.5 mmHg, HCO3-: 25.3 mEq/L, pH: 7.40\n",
      "Age: 36, PaCO2: 43.0 mmHg, HCO3-: 25.6 mEq/L, pH: 7.40\n",
      "Age: 37, PaCO2: 43.5 mmHg, HCO3-: 25.9 mEq/L, pH: 7.40\n",
      "Age: 38, PaCO2: 44.0 mmHg, HCO3-: 26.1 mEq/L, pH: 7.40\n",
      "Age: 39, PaCO2: 44.5 mmHg, HCO3-: 26.4 mEq/L, pH: 7.40\n",
      "Age: 40, PaCO2: 45.0 mmHg, HCO3-: 26.7 mEq/L, pH: 7.40\n",
      "Age: 41, PaCO2: 45.5 mmHg, HCO3-: 26.9 mEq/L, pH: 7.40\n",
      "Age: 42, PaCO2: 46.0 mmHg, HCO3-: 27.2 mEq/L, pH: 7.39\n",
      "Age: 43, PaCO2: 46.5 mmHg, HCO3-: 27.5 mEq/L, pH: 7.39\n",
      "Age: 44, PaCO2: 47.0 mmHg, HCO3-: 27.7 mEq/L, pH: 7.39\n",
      "Age: 45, PaCO2: 47.5 mmHg, HCO3-: 28.0 mEq/L, pH: 7.39\n",
      "Age: 46, PaCO2: 48.0 mmHg, HCO3-: 28.3 mEq/L, pH: 7.39\n",
      "Age: 47, PaCO2: 48.5 mmHg, HCO3-: 28.5 mEq/L, pH: 7.39\n",
      "Age: 48, PaCO2: 49.0 mmHg, HCO3-: 28.8 mEq/L, pH: 7.39\n",
      "Age: 49, PaCO2: 49.5 mmHg, HCO3-: 29.1 mEq/L, pH: 7.39\n",
      "Age: 50, PaCO2: 50.0 mmHg, HCO3-: 29.3 mEq/L, pH: 7.39\n",
      "Age: 51, PaCO2: 50.5 mmHg, HCO3-: 29.6 mEq/L, pH: 7.39\n",
      "Age: 52, PaCO2: 51.0 mmHg, HCO3-: 29.9 mEq/L, pH: 7.39\n",
      "Age: 53, PaCO2: 51.5 mmHg, HCO3-: 30.1 mEq/L, pH: 7.39\n",
      "Age: 54, PaCO2: 52.0 mmHg, HCO3-: 30.4 mEq/L, pH: 7.39\n",
      "Age: 55, PaCO2: 52.5 mmHg, HCO3-: 30.7 mEq/L, pH: 7.39\n",
      "Age: 56, PaCO2: 53.0 mmHg, HCO3-: 30.9 mEq/L, pH: 7.39\n",
      "Age: 57, PaCO2: 53.5 mmHg, HCO3-: 31.2 mEq/L, pH: 7.39\n",
      "Age: 58, PaCO2: 54.0 mmHg, HCO3-: 31.5 mEq/L, pH: 7.39\n",
      "Age: 59, PaCO2: 54.5 mmHg, HCO3-: 31.7 mEq/L, pH: 7.39\n",
      "Age: 60, PaCO2: 55.0 mmHg, HCO3-: 32.0 mEq/L, pH: 7.39\n"
     ]
    }
   ],
   "source": [
    "import numpy as np\n",
    "\n",
    "def calculate_pH(PaCO2, HCO3):\n",
    "    pK = 6.1\n",
    "    PCO2_conversion = 0.03\n",
    "    pH = pK + np.log10(HCO3 / (PCO2_conversion * PaCO2))\n",
    "    return pH\n",
    "\n",
    "age = np.arange(30, 61, 1)\n",
    "num_years = len(age)\n",
    "\n",
    "# Initial values at age 30\n",
    "initial_PaCO2 = 40  # mmHg\n",
    "initial_HCO3 = 24  # mEq/L\n",
    "final_PaCO2 = 55  # mmHg, assumed value at age 60\n",
    "final_HCO3 = 32  # mEq/L, assumed value at age 60\n",
    "\n",
    "PaCO2_values = np.linspace(initial_PaCO2, final_PaCO2, num_years)\n",
    "HCO3_values = np.linspace(initial_HCO3, final_HCO3, num_years)\n",
    "pH_values = np.zeros(num_years)\n",
    "\n",
    "for i in range(num_years):\n",
    "    pH_values[i] = calculate_pH(PaCO2_values[i], HCO3_values[i])\n",
    "\n",
    "# Print the results\n",
    "for i, a in enumerate(age):\n",
    "    print(f\"Age: {a}, PaCO2: {PaCO2_values[i]:.1f} mmHg, HCO3-: {HCO3_values[i]:.1f} mEq/L, pH: {pH_values[i]:.2f}\")\n"
   ]
  },
  {
   "cell_type": "markdown",
   "id": "6af6fab1",
   "metadata": {},
   "source": [
    "This table demonstrates that Chronic conditions can take place over many years.\n",
    "\n",
    "Now lets compare this to the rise in CO2 that we would see in a 10 Minute Apnea Challenge to determine brain death in a non-breathing patient."
   ]
  },
  {
   "cell_type": "code",
   "execution_count": 29,
   "id": "72dcd65d",
   "metadata": {},
   "outputs": [
    {
     "name": "stdout",
     "output_type": "stream",
     "text": [
      "Minutes: 1, PaCO2: 40.0 mmHg, HCO3-: 24.0 mEq/L, pH: 7.40\n",
      "Minutes: 2, PaCO2: 44.4 mmHg, HCO3-: 24.1 mEq/L, pH: 7.36\n",
      "Minutes: 3, PaCO2: 48.9 mmHg, HCO3-: 24.2 mEq/L, pH: 7.32\n",
      "Minutes: 4, PaCO2: 53.3 mmHg, HCO3-: 24.3 mEq/L, pH: 7.28\n",
      "Minutes: 5, PaCO2: 57.8 mmHg, HCO3-: 24.4 mEq/L, pH: 7.25\n",
      "Minutes: 6, PaCO2: 62.2 mmHg, HCO3-: 24.6 mEq/L, pH: 7.22\n",
      "Minutes: 7, PaCO2: 66.7 mmHg, HCO3-: 24.7 mEq/L, pH: 7.19\n",
      "Minutes: 8, PaCO2: 71.1 mmHg, HCO3-: 24.8 mEq/L, pH: 7.17\n",
      "Minutes: 9, PaCO2: 75.6 mmHg, HCO3-: 24.9 mEq/L, pH: 7.14\n",
      "Minutes: 10, PaCO2: 80.0 mmHg, HCO3-: 25.0 mEq/L, pH: 7.12\n"
     ]
    }
   ],
   "source": [
    "import numpy as np\n",
    "\n",
    "def calculate_pH(PaCO2, HCO3):\n",
    "    pK = 6.1\n",
    "    PCO2_conversion = 0.03\n",
    "    pH = pK + np.log10(HCO3 / (PCO2_conversion * PaCO2))\n",
    "    return pH\n",
    "\n",
    "Minutes = np.arange(1, 11, 1)\n",
    "num_minutes = len(Minutes)\n",
    "\n",
    "# Initial values at Baseline\n",
    "initial_PaCO2 = 40  # mmHg\n",
    "initial_HCO3 = 24  # mEq/L\n",
    "final_PaCO2 = 80  # mmHg, assumed value at 11 Minutes\n",
    "final_HCO3 = 25  # mEq/L, assumed value at 11 Minutes\n",
    "\n",
    "PaCO2_values = np.linspace(initial_PaCO2, final_PaCO2, num_minutes)\n",
    "HCO3_values = np.linspace(initial_HCO3, final_HCO3, num_minutes)\n",
    "pH_values = np.zeros(num_minutes)\n",
    "\n",
    "for i in range(num_minutes):\n",
    "    pH_values[i] = calculate_pH(PaCO2_values[i], HCO3_values[i])\n",
    "\n",
    "# Print the results\n",
    "for i, m in enumerate(Minutes):\n",
    "    print(f\"Minutes: {m}, PaCO2: {PaCO2_values[i]:.1f} mmHg, HCO3-: {HCO3_values[i]:.1f} mEq/L, pH: {pH_values[i]:.2f}\")\n"
   ]
  },
  {
   "cell_type": "markdown",
   "id": "85550af3",
   "metadata": {},
   "source": [
    "### Compensation Speed\n",
    "\n",
    "Chronic Smoker (CO2 increase over 30 years):\n",
    "\n",
    "Age\tPaCO2 (mmHg)\tHCO3- (mEq/L)\tpH\n",
    "30\t40.0\t24.0\t7.40\n",
    "31\t40.5\t24.3\t7.40\n",
    "...\t...\t...\t...\n",
    "60\t55.0\t32.0\t7.38\n",
    "\n",
    "Apnea Challenge (CO2 increase over 10 minutes):\n",
    "\n",
    "Minutes\tPaCO2 (mmHg)\tHCO3- (mEq/L)\tpH\n",
    "1\t40.0\t24.0\t7.40\n",
    "2\t44.4\t24.1\t7.34\n",
    "...\t...\t...\t...\n",
    "10\t80.0\t25.0\t7.10\n",
    "\n",
    "From the tables, we can see that the change in PaCO2, HCO3-, and pH values is much more rapid in the apnea challenge compared to the chronic smoker scenario. The PaCO2 increases from 40 mmHg to 80 mmHg in just 10 minutes for the apnea challenge, while it takes 30 years for the chronic smoker's PaCO2 to rise from 40 mmHg to 55 mmHg. Similarly, the pH decreases more rapidly during the apnea challenge compared to the chronic smoker scenario where full compensation is able to be maintained over the course of decades. \n",
    "\n",
    "This emphasizes the importance of understanding the speed of compensation in different clinical situations and adjusting the management accordingly.\n",
    "\n"
   ]
  },
  {
   "cell_type": "markdown",
   "id": "d9990ee1",
   "metadata": {},
   "source": [
    "## The Classification Calculator"
   ]
  },
  {
   "cell_type": "code",
   "execution_count": 45,
   "id": "11599e3e",
   "metadata": {},
   "outputs": [
    {
     "data": {
      "application/vnd.jupyter.widget-view+json": {
       "model_id": "d7f3392c8fb04b4ab320168c1c5bd96f",
       "version_major": 2,
       "version_minor": 0
      },
      "text/plain": [
       "FloatSlider(value=40.0, description='PaCO2', min=10.0, step=1.0)"
      ]
     },
     "metadata": {},
     "output_type": "display_data"
    },
    {
     "data": {
      "application/vnd.jupyter.widget-view+json": {
       "model_id": "74fca5e756b34327831cad21febef204",
       "version_major": 2,
       "version_minor": 0
      },
      "text/plain": [
       "FloatSlider(value=36.0, description='HCO3', max=50.0, min=5.0, step=1.0)"
      ]
     },
     "metadata": {},
     "output_type": "display_data"
    },
    {
     "data": {
      "application/vnd.jupyter.widget-view+json": {
       "model_id": "db72ad1fab2e4724a0262411df5e4f1b",
       "version_major": 2,
       "version_minor": 0
      },
      "text/plain": [
       "Label(value='pH = 7.58')"
      ]
     },
     "metadata": {},
     "output_type": "display_data"
    },
    {
     "data": {
      "application/vnd.jupyter.widget-view+json": {
       "model_id": "846c76335f2e4cd2b4d3d39b73c4e0a9",
       "version_major": 2,
       "version_minor": 0
      },
      "text/plain": [
       "Label(value='Classification: Uncompensated Metabolic Alkalosis')"
      ]
     },
     "metadata": {},
     "output_type": "display_data"
    },
    {
     "data": {
      "image/png": "[encoded data removed]",
      "text/plain": [
       "<Figure size 800x800 with 1 Axes>"
      ]
     },
     "metadata": {},
     "output_type": "display_data"
    }
   ],
   "source": [
    "import numpy as np\n",
    "import matplotlib.pyplot as plt\n",
    "import matplotlib.colors as mcolors\n",
    "import ipywidgets as widgets\n",
    "from IPython.display import display, clear_output\n",
    "\n",
    "def calculate_pH(PaCO2, HCO3):\n",
    "    pK = 6.1\n",
    "    PCO2_conversion = 0.03\n",
    "    pH = pK + np.log10(HCO3 / (PCO2_conversion * PaCO2))\n",
    "    return pH\n",
    "\n",
    "def classify_abg(pH, PaCO2, HCO3):\n",
    "    if pH < 7.35:\n",
    "        if PaCO2 > 45:\n",
    "            if HCO3 > 26:\n",
    "                return \"Partially Compensated Respiratory Acidosis\", 'Yellow'\n",
    "            elif HCO3 < 22:\n",
    "                return \"Mixed Acidosis\", 'Red'\n",
    "            else:\n",
    "                return \"Uncompensated Respiratory Acidosis\", 'Orange'\n",
    "        elif HCO3 < 22:\n",
    "            if PaCO2 < 35:\n",
    "                return \"Partially Compensated Metabolic Acidosis\", 'Yellow'\n",
    "            elif PaCO2 > 45:\n",
    "                return \"Mixed Acidosis\", 'Red'\n",
    "            else:\n",
    "                return \"Uncompensated Metabolic Acidosis\", 'Orange'\n",
    "        else:\n",
    "            return \"Undefined\", 'gray'\n",
    "    elif pH > 7.45:\n",
    "        if PaCO2 < 35:\n",
    "            if HCO3 < 22:\n",
    "                return \"Partially Compensated Respiratory Alkalosis\", 'cyan'\n",
    "            elif HCO3 > 26:\n",
    "                return \"Mixed Alkalosis\", 'Purple'\n",
    "            else:\n",
    "                return \"Uncompensated Respiratory Alkalosis\", 'blue'\n",
    "        elif HCO3 > 26:\n",
    "            if PaCO2 > 45:\n",
    "                return \"Partially Compensated Metabolic Alkalosis\", 'cyan'\n",
    "            elif PaCO2 < 35:\n",
    "                return \"Mixed Alkalosis\", 'Purple'\n",
    "            else:\n",
    "                return \"Uncompensated Metabolic Alkalosis\", 'Blue'\n",
    "        else:\n",
    "            return \"Undefined\", 'gray'\n",
    "    else:\n",
    "        if 35 <= PaCO2 <= 45 and 22 <= HCO3 <= 26:\n",
    "            return \"Normal\", 'green'\n",
    "        else:\n",
    "            return \"Undefined\", 'gray'\n",
    "\n",
    "def calculate_possible_PaCO2_HCO3(pH, PaCO2, HCO3, radius=2, num_points=100):\n",
    "    pK = 6.1\n",
    "    PCO2_conversion = 0.03\n",
    "\n",
    "    angles = np.linspace(0, 2 * np.pi, num_points)\n",
    "    dHCO3_values = np.zeros(num_points)\n",
    "    dPaCO2_values = np.zeros(num_points)\n",
    "\n",
    "    for i, angle in enumerate(angles):\n",
    "        dHCO3 = radius * np.sin(angle)\n",
    "        dPaCO2 = radius * np.cos(angle)\n",
    "\n",
    "        dHCO3_values[i] = HCO3 + dHCO3\n",
    "        dPaCO2_values[i] = PaCO2 + dPaCO2\n",
    "\n",
    "    pH_values = pK + np.log10(dHCO3_values / (PCO2_conversion * dPaCO2_values))\n",
    "\n",
    "    return pH_values, dHCO3_values\n",
    "\n",
    "def plot_PaCO2_lines(ax):\n",
    "    pK = 6.1\n",
    "    PCO2_conversion = 0.03\n",
    "\n",
    "    for PaCO2 in range(10, 110, 10):\n",
    "        HCO3_values = np.linspace(5, 50, 100)\n",
    "        pH_values = pK + np.log10(HCO3_values / (PaCO2 * PCO2_conversion))\n",
    "        ax.plot(pH_values, HCO3_values, 'k', alpha=0.5)\n",
    "        ax.text(pH_values[-1], HCO3_values[-1], f'{PaCO2}', fontsize=8, verticalalignment='bottom')\n",
    "\n",
    "\n",
    "# Create widgets\n",
    "PaCO2_slider = widgets.FloatSlider(min=10, max=100, step=1, value=40, description='PaCO2')\n",
    "HCO3_slider = widgets.FloatSlider(min=5, max=50, step=1, value=24, description='HCO3')\n",
    "equation_label = widgets.Label(value=\"\")\n",
    "classification_label = widgets.Label(value=\"\")\n",
    "\n",
    "# Display widgets\n",
    "display(PaCO2_slider, HCO3_slider, equation_label, classification_label)\n",
    "\n",
    "fig, ax = plt.subplots(figsize=(8, 8))\n",
    "ax.set_xlabel(\"pH\")\n",
    "ax.set_ylabel(\"HCO3\")\n",
    "\n",
    "dot, = ax.plot([], [], 'ro', markersize=10)\n",
    "circle, = ax.plot([], [], 'r-', linewidth=2)\n",
    "\n",
    "# Create grids\n",
    "pH_grid, HCO3_grid = np.meshgrid(np.linspace(6.2, 8.4, 200), np.linspace(5, 50, 200))\n",
    "pK = 6.1\n",
    "PCO2_conversion = 0.03\n",
    "PaCO2_grid = HCO3_grid / (10 ** (pH_grid - pK) * PCO2_conversion)\n",
    "\n",
    "color_map = np.empty((200, 200), dtype=object)\n",
    "for i in range(200):\n",
    "    for j in range(200):\n",
    "        color_map[i, j] = classify_abg(pH_grid[i, j], PaCO2_grid[i, j], HCO3_grid[i, j])[1]\n",
    "\n",
    "# Convert color_map to RGBA\n",
    "color_rgba = np.empty((200, 200, 4), dtype=np.float32)\n",
    "for i, color_name in enumerate(np.unique(color_map)):\n",
    "    color_rgba[color_map == color_name] = mcolors.to_rgba(color_name)\n",
    "\n",
    "ax.imshow(color_rgba, extent=[6.2, 8.4, 5, 50], origin='lower', alpha=0.6, aspect='auto')\n",
    "\n",
    "# Add PaCO2 lines\n",
    "plot_PaCO2_lines(ax)\n",
    "\n",
    "def update(change):\n",
    "    global circle\n",
    "\n",
    "    PaCO2 = PaCO2_slider.value\n",
    "    HCO3 = HCO3_slider.value\n",
    "\n",
    "    pH = calculate_pH(PaCO2, HCO3)\n",
    "    equation_label.value = f\"pH = {pH:.2f}\"\n",
    "\n",
    "    classification = classify_abg(pH, PaCO2, HCO3)\n",
    "    classification_label.value = f\"Classification: {classification[0]}\"\n",
    "\n",
    "    dot.set_data([pH], [HCO3])\n",
    "\n",
    "    pH_values, HCO3_values = calculate_possible_PaCO2_HCO3(pH, PaCO2, HCO3, radius=2)\n",
    "    circle.set_data(pH_values, HCO3_values)\n",
    "\n",
    "    clear_output(wait=True)\n",
    "    display(PaCO2_slider, HCO3_slider, equation_label, classification_label)\n",
    "    display(fig)  # Add this line\n",
    "\n",
    "PaCO2_slider.observe(update, names='value')\n",
    "HCO3_slider.observe(update, names='value')\n",
    "\n",
    "update(None)"
   ]
  },
  {
   "cell_type": "markdown",
   "id": "4485edd5",
   "metadata": {},
   "source": [
    "### The Interpretation Guidelines\n",
    "\n",
    "Remember, for a given Acidosis or Alkalosis, there can be either a Metabolic Component (HCO3-), a Respiratory Component (PaCO2), or both.\n",
    "\n",
    "\n",
    "\n",
    "\n",
    "#### For a pH level that is less than 7.35, we have an acidic condition. \n",
    "\n",
    "###### If the PaCO2 is greater than 45, we know it's a respiratory issue. \n",
    "\n",
    "In this case, if the HCO3 is greater than 26, it's partially compensated respiratory acidosis (Yellow). \n",
    "If the HCO3 is less than 22, it's a mixed acidosis (Red). \n",
    "Otherwise, it's uncompensated respiratory acidosis (Orange).\n",
    "\n",
    "However,\n",
    "\n",
    "##### If the HCO3 is less than 22 instead of the PaCO2, it's a metabolic issue. \n",
    "\n",
    "If the PaCO2 is less than 35, it's partially compensated metabolic acidosis (Yellow). \n",
    "If the PaCO2 is greater than 45, it's mixed acidosis (Red). \n",
    "Otherwise, it's uncompensated metabolic acidosis (Orange).\n",
    "\n",
    "On the other hand,\n",
    "\n",
    "#### For a pH level that is greater than 7.45, we have an alkalitic condition. \n",
    "\n",
    "##### If the PaCO2 is less than 35, it's a respiratory issue. \n",
    "\n",
    "In this case, if the HCO3 is less than 22, it's partially compensated respiratory alkalosis (Cyan). \n",
    "If the HCO3 is greater than 26, it's mixed alkalosis (Purple). \n",
    "Otherwise, it's uncompensated respiratory alkalosis (Blue).\n",
    "\n",
    "However, \n",
    "\n",
    "##### If the HCO3 is greater than 26 in the alkaline condition, it's a metabolic issue. \n",
    "\n",
    "If the PaCO2 is greater than 45, it's partially compensated metabolic alkalosis (Cyan). \n",
    "If the PaCO2 is less than 35, it's mixed alkalosis (Purple). \n",
    "Otherwise, it's uncompensated metabolic alkalosis (Blue).\n",
    "\n",
    "#### If none of the above conditions are met, the result is undefined (Gray). In this case, additional information is needed to make a definitive interpretation including Base Excess, Past Medical History and potentially other laboratory data.\n",
    "\n",
    "##### If the pH is within the normal range (7.35 to 7.45), \n",
    "##### the PaCO2 is between 35 and 45, \n",
    "##### and the HCO3 is between 22 and 26, \n",
    "\n",
    "#### The result is normal (Green)."
   ]
  },
  {
   "cell_type": "markdown",
   "id": "9e524d8c",
   "metadata": {},
   "source": [
    "## The Color Code Explained\n",
    "\n",
    "The color scheme used in this ABG classification system plays a crucial role in helping healthcare professionals quickly identify situations for ventilatory support or other medical interventions in patients with acid-base disturbances. This color-coded system enables a rapid-guided assessment of a patient's condition to ask the appropriate questions when considering the appropriate treatment strategies in a clinical setting.\n",
    "\n",
    "#### Yellow/Orange/Red\n",
    "\n",
    "The acidotic side of the classification system, represented by the red, yellow, and orange gradient, signifies conditions where ventilation is essential in managing the patient's acid-base imbalance. \n",
    "\n",
    "The Yellow, the least severe, represents a partially compensated acidosis, where the body has begun to counterbalance the disturbance but still requires assistance, often in the form of ventilatory support. Patients in this area require a higher level of monitoring due to the presence of an underlying condition based on the pH.\n",
    "\n",
    "The orange color signifies a uncompensated acidosis, a situation where the body has not yet initiated compensatory mechanisms or is failing to provide them. Providing ventilation becomes vital to prevent further deterioration and supportive measures becoming increasing common. An important question of why the compensatory mechanisms are not active is critical at this phase! The patient could be going in either direction and should be mointored closely! \n",
    "\n",
    "The red color indicates mixed acidosis, a severe state where both respiratory and metabolic acidosis are present, demanding immediate attention and intervention. Patients die when they remain too long in the red zone and should receive ample time, attention and assistance.\n",
    "\n",
    "\n",
    "#### Example of an extreme acidotic case:\n",
    "\n",
    "A 65-year-old patient with a history of chronic obstructive pulmonary disease (COPD) is admitted to the ICU due to an exacerbation of their condition. The patient is experiencing severe respiratory distress, and their ABG results show the following:\n",
    "\n",
    "pH: 7.15\n",
    "PaCO2: 75 mmHg\n",
    "HCO3-: 35 mEq/L\n",
    "\n",
    "According to the color-coded ABG classification system, these values fall into the orange zone, indicating uncompensated respiratory acidosis. In this extreme case, the respiratory therapist should prioritize ventilatory support to help the patient overcome their respiratory failure. This may include initiating non-invasive ventilation, such as continuous positive airway pressure (CPAP) or bilevel positive airway pressure (BiPAP), or even intubating the patient and providing invasive mechanical ventilation if the patient's condition does not improve.\n",
    "\n",
    "In addition to ventilatory support, the medical team should administer bronchodilators, corticosteroids, and possibly antibiotics to treat the underlying COPD exacerbation. Oxygen therapy should also be closely monitored to avoid worsening the patient's hypercapnia.\n",
    "\n",
    "### Cyan/Blue/Purple\n",
    "\n",
    "On the other hand, the alkalotic side, represented by the cyan, blue, and purple indicate conditions where medical interventions and a more observational approach can be necessary. \n",
    "\n",
    "Cyan signifies partially compensated alkalosis, in which the body has begun compensating but still requires medical intervention to restore the acid-base balance. Patients in this area require a higher level of monitoring due to the presence of an underlying condition based on the pH.\n",
    "\n",
    "The blue color represents uncompensated alkalosis, a situation where the body has not yet initiated compensatory mechanisms or is failing to provide them.  An important question of why the compensatory mechanisms are not active is critical at this phase! The patient could be going in either direction and should be mointored closely! \n",
    "\n",
    "\n",
    "Finally, the purple color indicates mixed alkalosis, a state where both respiratory and metabolic alkalosis coexist, and medical treatment is necessary to address the underlying causes.  \n",
    "\n",
    "#### Example of a Mild Alkalosis Case\n",
    "\n",
    "A 24-year-old patient presents to the emergency department with complaints of shortness of breath, palpitations, and chest tightness. The patient has a history of anxiety and panic attacks but has never sought medical attention for these issues before. The patient's ABG results are as follows:\n",
    "\n",
    "pH: 7.48\n",
    "PaCO2: 30 mmHg\n",
    "HCO3-: 24 mEq/L\n",
    "\n",
    "These values place the patient in the blue zone of the color-coded ABG classification system, indicating uncompensated respiratory alkalosis. In this case, the patient's anxiety attack has likely led to hyperventilation, which causes a decrease in PaCO2 and a subsequent increase in pH.\n",
    "\n",
    "For a respiratory therapist managing this patient, understanding the ABG classification system and the context of the patient's presentation is crucial. In this case, aggressive ventilatory support is not required. Instead, the focus should be on helping the patient regain control of their breathing and addressing the underlying anxiety that triggered the panic attack.\n",
    "\n",
    "The medical team may administer short-term anxiolytic medications, such as benzodiazepines, to help alleviate the patient's acute anxiety symptoms. Additionally, they may recommend non-pharmacological interventions, such as guided deep-breathing exercises or reassurance from a supportive staff member. Once the patient's anxiety is under control, their breathing will likely return to normal, and the respiratory alkalosis will resolve on its own.\n",
    "\n",
    "In this example of a patient experiencing an anxiety attack with panic, understanding the color-coded ABG classification system can help healthcare professionals prioritize medical management and close monitoring of the patient's respiratory status over aggressive ventilatory support. This approach ensures the patient receives appropriate and effective treatment for their specific situation.\n",
    "\n",
    "## Rationale\n",
    "\n",
    "Context is crucial when interpreting the color-coded ABG classification system, as it assists healthcare professionals in understanding the patient's specific situation and determining the appropriate course of action. For example, when a respiratory therapist is tasked with delivering ventilation to a critically ill patient, understanding the color scheme can guide their decision-making process. In cases where the acidotic gradient is present, they will know that ventilatory support is a priority to reverse or support the reversal of the acid-base disturbance. This could involve adjusting ventilator settings, increasing oxygen delivery, or even initiating non-invasive ventilation if the patient is not already intubated.\n",
    "\n",
    "Conversely, when the alkalotic gradient is present, the respiratory therapist should consider that medical management and close monitoring are more appropriate approaches. While ventilatory support may still be needed in some cases, it might not be the primary intervention required. The focus should be on identifying and treating the underlying cause of the alkalosis, which could include administering medications, adjusting fluid and electrolyte balance, or addressing any concurrent medical conditions.\n",
    "\n",
    "In conclusion, the ABG classification system is an invaluable tool for healthcare professionals, particularly those specializing in providing ventilatory support to critically ill patients. Understanding this color-coded system and the context in which it is applied can significantly improve patient outcomes by guiding appropriate and timely treatment strategies."
   ]
  }
 ],
 "metadata": {
  "celltoolbar": "Raw Cell Format",
  "kernelspec": {
   "display_name": "Python 3 (ipykernel)",
   "language": "python",
   "name": "python3"
  },
  "language_info": {
   "codemirror_mode": {
    "name": "ipython",
    "version": 3
   },
   "file_extension": ".py",
   "mimetype": "text/x-python",
   "name": "python",
   "nbconvert_exporter": "python",
   "pygments_lexer": "ipython3",
   "version": "3.10.9"
  }
 },
 "nbformat": 4,
 "nbformat_minor": 5
}
